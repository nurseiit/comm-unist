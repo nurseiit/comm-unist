{
 "cells": [
  {
   "cell_type": "markdown",
   "metadata": {},
   "source": [
    "# Python & `Networkx` Practice "
   ]
  },
  {
   "cell_type": "code",
   "execution_count": 3,
   "metadata": {},
   "outputs": [],
   "source": [
    "import networkx as nx\n",
    "import pandas as pd\n",
    "import numpy as np\n",
    "import matplotlib.pyplot as plt\n",
    "%matplotlib inline"
   ]
  },
  {
   "cell_type": "markdown",
   "metadata": {},
   "source": [
    "## Problem 1\n",
    "\n",
    "### Undirected Graph"
   ]
  },
  {
   "cell_type": "markdown",
   "metadata": {},
   "source": [
    "1.Generate Graphs $G_1=(V_1,E_1)$ and $G_2=(V_2,E_2)$.\n",
    "- $V_1=\\{3,4,5,6,7,8,9\\}$ and $E_1=\\{(7,8),(8,9),(9,3),(3,5),(4,6),(3,7),(4,7),(3,4)\\}$.\n",
    "- $G_2=K_8$ where $K_8$ : complete graph with $|V|=8$."
   ]
  },
  {
   "cell_type": "code",
   "execution_count": null,
   "metadata": {
    "collapsed": true
   },
   "outputs": [],
   "source": []
  },
  {
   "cell_type": "markdown",
   "metadata": {},
   "source": [
    "2.Find $H=G_1\\cap G_2=(V_1\\cap V_2,E_1\\cap E_2)$.\n",
    "(Hint : use `set()` and intersection `&`)"
   ]
  },
  {
   "cell_type": "code",
   "execution_count": null,
   "metadata": {
    "collapsed": true
   },
   "outputs": [],
   "source": []
  },
  {
   "cell_type": "markdown",
   "metadata": {},
   "source": [
    "3.Find te eigenvector centrality (E-C) of $H$. Let $\\mathbf{x}=(x_1,x_2,...,x_n)^t$, $x_i$ is E-C of node $v_i$. Then the centrality $\\mathbf{x}$ satisfies $$\\mathbf{A}\\mathbf{x}=\\lambda_1\\mathbf{x}$$ where $\\mathbf{A}$ is the adjacency metrix of $H$ and $\\lambda_1$ is the largest eigenvelue of $H$ (Use `nx.eigenvector_centrality`)."
   ]
  },
  {
   "cell_type": "code",
   "execution_count": null,
   "metadata": {
    "collapsed": true
   },
   "outputs": [],
   "source": []
  },
  {
   "cell_type": "markdown",
   "metadata": {},
   "source": [
    "4.Draw $H$ with size corresponding to eigenvalue centrality."
   ]
  },
  {
   "cell_type": "code",
   "execution_count": null,
   "metadata": {
    "collapsed": true
   },
   "outputs": [],
   "source": []
  },
  {
   "cell_type": "markdown",
   "metadata": {},
   "source": [
    "### DiGraph - Directed graphs with self loops\n",
    "A DiGraph stores nodes and edges with optional data, or attributes.\n",
    "\n",
    "DiGraphs hold directed edges. Self loops are allowed but multiple (parallel) edges are not.\n",
    "\n",
    "- Make and draw Directed cycle graph `G` with `|V|=7`\n",
    "- Find an adjacency matrix of `G`"
   ]
  },
  {
   "cell_type": "code",
   "execution_count": null,
   "metadata": {
    "collapsed": true
   },
   "outputs": [],
   "source": []
  },
  {
   "cell_type": "markdown",
   "metadata": {},
   "source": [
    "### MultiDiGraph – Directed graphs with self loops and parallel edges\n",
    "Multiedges are multiple edges between two nodes. Each edge can hold optional data or attributes.\n",
    "\n",
    "A MultiGraph holds undirected edges. Self loops are allowed\n",
    "\n",
    "- Make and draw weighted directed cycle graph `G` with $V=\\{0,1,2\\}$ and $E=\\{(0,1,i)|i=1,2,3\\}\\cup\\{(1,2,i)|i=1,2\\}$ where $i$ is weight of edge\n",
    "- Find an adjacency matrix of `G`\n",
    "- Check edgelist of `G`\n",
    "- Check `nx.all_simple_paths(G,0,2)` using `for loop`."
   ]
  },
  {
   "cell_type": "code",
   "execution_count": null,
   "metadata": {
    "collapsed": true
   },
   "outputs": [],
   "source": []
  },
  {
   "cell_type": "markdown",
   "metadata": {},
   "source": [
    "## Problem 2\n",
    "Data : https://drive.google.com/open?id=1do2zFgwqp79fvWAbvZ0mWglplWZ7ekf0\n",
    "This is Ulsan road data.\n",
    "\n",
    "**Construct Road Network  that satisfies the following conditions**\n",
    "\n",
    "- Attributes of nodes  : `NODE_NAME`, `STNL_REG`, `latitude`, `longitude`\n",
    "- Attributes of edgess : `LINK_ID`, `STNL_REG`, `SHAPE_STLe`\n",
    "\n",
    "tip : we can check attributes of Dataframe by using `DataFrame.columns`"
   ]
  },
  {
   "cell_type": "code",
   "execution_count": null,
   "metadata": {
    "collapsed": true
   },
   "outputs": [],
   "source": []
  },
  {
   "cell_type": "markdown",
   "metadata": {},
   "source": [
    "**Data cleaning**\n",
    "- Make `G` into connected Graph (Hint: use `nx.connected_component_subgraphs`,`Graph.order()` and `np.argmax`)\n",
    "- Check result by using `nx.is_connected(G)` (we should obtain `True`)\n",
    "- Delete nodes which have no attributes (Hint: use `set` and  `nx.get_node_attributes`)\n",
    "- Check the change in the number of nodes. (Use `G.order()` or `G.number_of_nodes()`)"
   ]
  },
  {
   "cell_type": "code",
   "execution_count": null,
   "metadata": {
    "collapsed": true
   },
   "outputs": [],
   "source": []
  },
  {
   "cell_type": "markdown",
   "metadata": {},
   "source": [
    "**Computation and set attributes**\n",
    "\n",
    "- compute degree of `G` by using `nx.degree`\n",
    "- compute betweenness centrality by using `nx.betweenness_centrality`.\n",
    "- Store two attributes in `G`."
   ]
  },
  {
   "cell_type": "code",
   "execution_count": null,
   "metadata": {
    "collapsed": true
   },
   "outputs": [],
   "source": []
  },
  {
   "cell_type": "markdown",
   "metadata": {},
   "source": [
    "**Visualization**\n",
    "\n",
    "Color map : https://matplotlib.org/tutorials/colors/colormaps.html\n",
    "\n",
    "- Define positions of nodes by using `longitute` and `latitude` in `G`\n",
    "\n",
    "**1.Draw network with following setting:**\n",
    "\n",
    "- nodesize: degree, nodecolor: degree, colormap: set1, edge color: grey\n",
    "- nodesize: degree, nodecolor: stel_reg, colormap: set3, edge color: grey"
   ]
  },
  {
   "cell_type": "code",
   "execution_count": null,
   "metadata": {
    "collapsed": true
   },
   "outputs": [],
   "source": []
  },
  {
   "cell_type": "markdown",
   "metadata": {},
   "source": [
    "**2.Draw network with following setting:**\n",
    "\n",
    "- nodesize: bc, nodecolor: bc, colormap: cool, edge color: grey"
   ]
  },
  {
   "cell_type": "code",
   "execution_count": null,
   "metadata": {
    "collapsed": true
   },
   "outputs": [],
   "source": []
  },
  {
   "cell_type": "markdown",
   "metadata": {},
   "source": [
    "**3.Draw network with following setting and:**\n",
    "\n",
    "- nodesize: bc, nodecolor: bc, colormap: cool, edge color: grey\n",
    "- labels: Show labels if bc > tol \n",
    "    + Check value distribution (`plt.plot(bc.values())`)\n",
    "    + set the tolerance `tol`\n",
    "    + make dictionary `labels` for labels\n",
    "- visualize network by using above data and `nx.draw_networkx_labels(G,pos,labels,font_weight='bold')`.\n",
    "- Add a color bar using the code below.\n",
    "\n",
    "```python\n",
    "vmin = min(bc.values())\n",
    "vmax = max(bc.values())\n",
    "sm = plt.cm.ScalarMappable(cmap=plt.cm.cool, norm=plt.Normalize(vmin = vmin, vmax=vmax))\n",
    "sm._A = []\n",
    "plt.colorbar(sm)\n",
    "ax = plt.gca()\n",
    "ax.set_axis_off()\n",
    "\n",
    "```"
   ]
  },
  {
   "cell_type": "code",
   "execution_count": null,
   "metadata": {
    "collapsed": true
   },
   "outputs": [],
   "source": []
  }
 ],
 "metadata": {
  "kernelspec": {
   "display_name": "Python 3",
   "language": "python",
   "name": "python3"
  },
  "language_info": {
   "codemirror_mode": {
    "name": "ipython",
    "version": 3
   },
   "file_extension": ".py",
   "mimetype": "text/x-python",
   "name": "python",
   "nbconvert_exporter": "python",
   "pygments_lexer": "ipython3",
   "version": "3.7.2"
  }
 },
 "nbformat": 4,
 "nbformat_minor": 2
}
