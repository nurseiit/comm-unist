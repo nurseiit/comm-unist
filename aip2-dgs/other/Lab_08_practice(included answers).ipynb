{
 "cells": [
  {
   "cell_type": "markdown",
   "metadata": {},
   "source": [
    "## How to get the rank and shape of a tensor"
   ]
  },
  {
   "cell_type": "markdown",
   "metadata": {},
   "source": [
    "we can use the tf.rank() to get the rank of a tensor.  It is a important to note that \n",
    "tf.rank will return a tensor as output, and in order to get the actual value, we will need\n",
    "to evaluate that tensor.\n",
    "In addition to the tensor rank, we can also get the shape of a Tensorflow tensor(similar to the shape of a NumPy array). For example, if x is a tensor, we can get its shape using x.get_shape(), which will return an object of a special class called TensorShape. "
   ]
  },
  {
   "cell_type": "code",
   "execution_count": 1,
   "metadata": {
    "collapsed": true
   },
   "outputs": [],
   "source": [
    "import tensorflow as tf"
   ]
  },
  {
   "cell_type": "code",
   "execution_count": 5,
   "metadata": {
    "collapsed": false
   },
   "outputs": [
    {
     "data": {
      "text/plain": [
       "'1.10.1'"
      ]
     },
     "execution_count": 5,
     "metadata": {},
     "output_type": "execute_result"
    }
   ],
   "source": [
    "# Check a version of tensorflow\n",
    "tf.__version__"
   ]
  },
  {
   "cell_type": "code",
   "execution_count": 6,
   "metadata": {
    "collapsed": true
   },
   "outputs": [],
   "source": [
    "import numpy as np"
   ]
  },
  {
   "cell_type": "code",
   "execution_count": 7,
   "metadata": {
    "collapsed": true
   },
   "outputs": [],
   "source": [
    "# declare tf.Graph()\n",
    "graph = tf.Graph()"
   ]
  },
  {
   "cell_type": "code",
   "execution_count": 8,
   "metadata": {
    "collapsed": false
   },
   "outputs": [
    {
     "name": "stdout",
     "output_type": "stream",
     "text": [
      "Shapes:  () (4,) (2, 2)\n"
     ]
    }
   ],
   "source": [
    "with graph.as_default():\n",
    "    ## define tensors a,b,c use constant\n",
    "    a = tf.constant(np.pi)\n",
    "    b = tf.constant([1,2,3,4])\n",
    "    c = tf.constant([[1,2], [3,4]])   \n",
    "    ## get their ranks\n",
    "    r1 = tf.rank(a)\n",
    "    r2 = tf.rank(b)\n",
    "    r3 = tf.rank(c)\n",
    "    ## get their shapes\n",
    "    s1 = a.get_shape()\n",
    "    s2 = b.get_shape()\n",
    "    s3 = c.get_shape()\n",
    "    print(\"Shapes: \", s1,s2,s3)"
   ]
  },
  {
   "cell_type": "code",
   "execution_count": 11,
   "metadata": {
    "collapsed": false
   },
   "outputs": [
    {
     "name": "stdout",
     "output_type": "stream",
     "text": [
      "Ranks:  0 1 2\n"
     ]
    }
   ],
   "source": [
    "# display rank value\n",
    "with tf.Session(graph = graph) as sess:\n",
    "    print(\"Ranks: \", r1.eval(), r2.eval(), r3.eval())\n",
    "    \n",
    "    "
   ]
  },
  {
   "cell_type": "code",
   "execution_count": 13,
   "metadata": {
    "collapsed": false
   },
   "outputs": [
    {
     "data": {
      "text/plain": [
       "'Hello, tensorflow'"
      ]
     },
     "execution_count": 13,
     "metadata": {},
     "output_type": "execute_result"
    }
   ],
   "source": [
    "# simple example\n",
    "import tensorflow as tf\n",
    "hello = tf.constant(\"Hello, tensorflow\")\n",
    "\n",
    "sess = tf.Session()\n",
    "\n",
    "a = sess.run(hello)\n",
    "a.decode(\"utf-8\")"
   ]
  },
  {
   "cell_type": "code",
   "execution_count": null,
   "metadata": {
    "collapsed": true
   },
   "outputs": [],
   "source": []
  },
  {
   "cell_type": "code",
   "execution_count": null,
   "metadata": {
    "collapsed": true
   },
   "outputs": [],
   "source": []
  },
  {
   "cell_type": "code",
   "execution_count": null,
   "metadata": {
    "collapsed": true
   },
   "outputs": [],
   "source": []
  },
  {
   "cell_type": "code",
   "execution_count": null,
   "metadata": {
    "collapsed": true
   },
   "outputs": [],
   "source": []
  },
  {
   "cell_type": "code",
   "execution_count": null,
   "metadata": {
    "collapsed": true
   },
   "outputs": [],
   "source": []
  },
  {
   "cell_type": "code",
   "execution_count": null,
   "metadata": {
    "collapsed": true
   },
   "outputs": [],
   "source": []
  },
  {
   "cell_type": "markdown",
   "metadata": {
    "collapsed": true
   },
   "source": [
    "## Understanding TensorFlow's computation graph"
   ]
  },
  {
   "cell_type": "code",
   "execution_count": 14,
   "metadata": {
    "collapsed": true
   },
   "outputs": [],
   "source": [
    "import tensorflow as tf"
   ]
  },
  {
   "cell_type": "code",
   "execution_count": 15,
   "metadata": {
    "collapsed": true
   },
   "outputs": [],
   "source": [
    "graph = tf.Graph()\n"
   ]
  },
  {
   "cell_type": "code",
   "execution_count": 16,
   "metadata": {
    "collapsed": false
   },
   "outputs": [],
   "source": [
    "with graph.as_default():\n",
    "    a = tf.constant(1, name = 'a')\n",
    "    b = tf.constant(2, name = 'b')\n",
    "    c = tf.constant(3, name = 'c')\n",
    "    z = 2 * (a-b) + c "
   ]
  },
  {
   "cell_type": "code",
   "execution_count": 17,
   "metadata": {
    "collapsed": true
   },
   "outputs": [],
   "source": [
    "sess = tf.Session(graph=graph)"
   ]
  },
  {
   "cell_type": "code",
   "execution_count": 19,
   "metadata": {
    "collapsed": true
   },
   "outputs": [],
   "source": [
    "# Show the graph via tensorboard\n",
    "writer = tf.summary.FileWriter(\"/home/unist/first_graph\")\n",
    "# ctrl + alt + t character "
   ]
  },
  {
   "cell_type": "code",
   "execution_count": 20,
   "metadata": {
    "collapsed": false
   },
   "outputs": [
    {
     "data": {
      "text/plain": [
       "1"
      ]
     },
     "execution_count": 20,
     "metadata": {},
     "output_type": "execute_result"
    }
   ],
   "source": [
    "sess.run(z)"
   ]
  },
  {
   "cell_type": "code",
   "execution_count": 72,
   "metadata": {
    "collapsed": false
   },
   "outputs": [],
   "source": [
    "writer.flush()"
   ]
  },
  {
   "cell_type": "code",
   "execution_count": 21,
   "metadata": {
    "collapsed": true
   },
   "outputs": [],
   "source": [
    "writer.close()"
   ]
  },
  {
   "cell_type": "code",
   "execution_count": 22,
   "metadata": {
    "collapsed": true
   },
   "outputs": [],
   "source": [
    "sess.close()\n",
    "\n",
    "\n",
    "\n",
    "if you have pycharm program\n",
    "\n",
    "on the bottom side \n",
    "change to command tab\n",
    "\n",
    "pip install numpy \n",
    "pip install matplotlib\n",
    "pip install scipy\n",
    "pip install tensorflow\n",
    "pip install tensorflow-gpu \n",
    "pip install seaborn \n",
    "pip install pandas\n",
    "\n",
    "\n",
    "\n",
    "\n",
    "\n"
   ]
  },
  {
   "cell_type": "markdown",
   "metadata": {},
   "source": [
    "## Working with TensorFlow’s placeholders, variables, and operations"
   ]
  },
  {
   "cell_type": "markdown",
   "metadata": {},
   "source": [
    "### Using placeholders for feeding data as input to a model in TensorFlow"
   ]
  },
  {
   "cell_type": "markdown",
   "metadata": {},
   "source": [
    "#### Defining placeholders"
   ]
  },
  {
   "cell_type": "code",
   "execution_count": 23,
   "metadata": {
    "collapsed": true
   },
   "outputs": [],
   "source": [
    "import tensorflow as tf\n",
    "graph = tf.Graph()\n",
    "with graph.as_default():\n",
    "    tf_a = tf.placeholder(tf.int32, shape=[], name = \"a\")\n",
    "    tf_b = tf.placeholder(tf.int32, shape=[], name = 'b')\n",
    "    tf_c = tf.placeholder(tf.int32, shape=[], name = 'c')\n",
    "    \n",
    "    r1 = tf_a - tf_b  #1\n",
    "    r2 = 2 * r1  # 2\n",
    "    \n",
    "    z = r2 + tf_c # 3"
   ]
  },
  {
   "cell_type": "markdown",
   "metadata": {},
   "source": [
    "#### Feeding placeholders with data"
   ]
  },
  {
   "cell_type": "code",
   "execution_count": 26,
   "metadata": {
    "collapsed": false
   },
   "outputs": [
    {
     "name": "stdout",
     "output_type": "stream",
     "text": [
      "2\n"
     ]
    }
   ],
   "source": [
    "## launch the previous graph\n",
    "with tf.Session(graph=graph) as sess:\n",
    "    feed = {tf_a:3, tf_b:2, tf_c:1}\n",
    "    result = sess.run(r2, feed_dict=feed)\n",
    "    print(result)\n",
    "\n",
    "\n"
   ]
  },
  {
   "cell_type": "markdown",
   "metadata": {},
   "source": [
    "### Defining placeholders for data arrays with varying batchsizes"
   ]
  },
  {
   "cell_type": "markdown",
   "metadata": {},
   "source": [
    "Placeholder for varying batchsizes:"
   ]
  },
  {
   "cell_type": "code",
   "execution_count": 101,
   "metadata": {
    "collapsed": false
   },
   "outputs": [
    {
     "name": "stdout",
     "output_type": "stream",
     "text": [
      "Tensor(\"tf_x:0\", shape=(?, 2), dtype=float32)\n",
      "Tensor(\"mean:0\", shape=(2,), dtype=float32)\n",
      "[[0.7  0.29]\n",
      " [0.23 0.55]\n",
      " [0.72 0.42]\n",
      " [0.98 0.68]\n",
      " [0.48 0.39]]\n",
      "Feeding data with shape (5, 2)\n",
      "Result: [0.62 0.47]\n",
      "[[0.34 0.73]\n",
      " [0.44 0.06]\n",
      " [0.4  0.74]\n",
      " [0.18 0.18]\n",
      " [0.53 0.53]\n",
      " [0.63 0.85]\n",
      " [0.72 0.61]\n",
      " [0.72 0.32]\n",
      " [0.36 0.23]\n",
      " [0.29 0.63]]\n",
      "Feeding data with shape (10, 2)\n",
      "Result: [0.46 0.49]\n"
     ]
    }
   ],
   "source": [
    "import tensorflow as tf\n",
    "import numpy as np\n",
    "# process in tensorflow\n",
    "# 1.build a graph\n",
    "# 2. feed data and run \n",
    "# 3. update your result\n",
    "graph= tf.Graph()\n",
    "with graph.as_default():\n",
    "    tf_x = tf.placeholder(tf.float32, shape=[None, 2], name = \"x\")\n",
    "    print(tf_x)\n",
    "    x_mean = tf.reduce_mean(tf_x, axis=1, name = 'mean')\n",
    "    # x_sum = tf.reduce_sum(~~~~)\n",
    "    print(x_mean)\n",
    "\n",
    "np.random.seed(123)\n",
    "np.set_printoptions(precision = 2)   # a = 23.4567 --> a = 23.45\n",
    "\n",
    "with tf.Session(graph=graph) as sess:\n",
    "    x1 = np.random.uniform(low=0, high=1, size=(5,2))\n",
    "    print(x1)\n",
    "    print(x1.shape)\n",
    "    print(sess.run(x_mean, feed_dict={tf_x:x1}))\n",
    "    x2 = np.random.uniform(low=0, high=1, size=(10,2))\n",
    "    print(x2)\n",
    "    print(x2.shape)\n",
    "    print(sess.run(x_mean, feed_dict={tf_x:x2}))    \n",
    "    "
   ]
  },
  {
   "cell_type": "code",
   "execution_count": null,
   "metadata": {
    "collapsed": true
   },
   "outputs": [],
   "source": []
  },
  {
   "cell_type": "markdown",
   "metadata": {},
   "source": [
    "### Variables in TensorFlow\n"
   ]
  },
  {
   "cell_type": "markdown",
   "metadata": {},
   "source": [
    "#### Defining Variables"
   ]
  },
  {
   "cell_type": "code",
   "execution_count": 27,
   "metadata": {
    "collapsed": false
   },
   "outputs": [
    {
     "name": "stdout",
     "output_type": "stream",
     "text": [
      "<tf.Variable 'w:0' shape=(2, 4) dtype=int64_ref>\n"
     ]
    }
   ],
   "source": [
    "import tensorflow as tf\n",
    "import numpy as np\n",
    "graph = tf.Graph()\n",
    "with graph.as_default():\n",
    "    w = tf.Variable(np.array([[1,2,3,4], [5,6,7,8]]), name = 'w')\n",
    "    print(w)\n",
    "\n",
    "\n"
   ]
  },
  {
   "cell_type": "markdown",
   "metadata": {},
   "source": [
    "#### Initializing variables"
   ]
  },
  {
   "cell_type": "code",
   "execution_count": 28,
   "metadata": {
    "collapsed": false
   },
   "outputs": [
    {
     "name": "stdout",
     "output_type": "stream",
     "text": [
      "[[1 2 3 4]\n",
      " [5 6 7 8]]\n"
     ]
    }
   ],
   "source": [
    "## initialize w and evaluate it\n",
    "with tf.Session(graph=graph) as sess:\n",
    "    sess.run(tf.global_variables_initializer())\n",
    "    print(sess.run(w))\n",
    "\n"
   ]
  },
  {
   "cell_type": "code",
   "execution_count": 94,
   "metadata": {
    "collapsed": false
   },
   "outputs": [
    {
     "name": "stdout",
     "output_type": "stream",
     "text": [
      "[[1 2 3 4]\n",
      " [5 6 7 8]]\n"
     ]
    }
   ],
   "source": [
    "## add the init_op to the graph\n",
    "\n",
    "\n",
    "\n",
    "## initialize w with init_op and evaluate it\n",
    "\n",
    "\n",
    "\n"
   ]
  },
  {
   "cell_type": "code",
   "execution_count": 95,
   "metadata": {
    "collapsed": true
   },
   "outputs": [],
   "source": [
    "graph = tf.Graph()\n",
    "\n",
    "with graph.as_default():\n",
    "    w1 = tf.Variable(1, name='w1')\n",
    "    init_op = tf.global_variables_initializer()\n",
    "    w2 = tf.Variable(2, name='w2')"
   ]
  },
  {
   "cell_type": "code",
   "execution_count": 100,
   "metadata": {
    "collapsed": false
   },
   "outputs": [
    {
     "name": "stdout",
     "output_type": "stream",
     "text": [
      "w2: 1\n"
     ]
    }
   ],
   "source": [
    "# Check the comparison between 'w1' and 'w2'"
   ]
  },
  {
   "cell_type": "code",
   "execution_count": null,
   "metadata": {
    "collapsed": true
   },
   "outputs": [],
   "source": [
    "#z = w*x + b\n",
    "import tensorflow as tf\n",
    "graph = tf.Graph()\n",
    "\n",
    "with graph.as_default():\n",
    "    x = tf.placeholder(tf.float32, name='x')\n",
    "    w = tf.Variable(2.0, name=\"weight\")\n",
    "    b = tf.Variable(0.7, name = \"bias\")\n",
    "    z = w*x + b\n",
    "    init = tf.global_vaiables_initializer()\n",
    "with tf.Session(graph=graph) as sess:\n",
    "    sess.run(init)\n",
    "    for i in [1.0, 0.6, -1.8]:\n",
    "        print('x = %4.1f --> z = %4.1f'%(i, sess.run(z, feed_dict={x:i})))\n",
    "    \n",
    "   \n",
    "\n",
    "\n",
    "\n",
    "\n",
    "\n",
    "\n",
    "\n",
    "\n",
    "\n",
    "\n",
    "\n",
    "\n",
    "\n"
   ]
  }
 ],
 "metadata": {
  "kernelspec": {
   "display_name": "Python 3",
   "language": "python",
   "name": "python3"
  },
  "language_info": {
   "codemirror_mode": {
    "name": "ipython",
    "version": 3
   },
   "file_extension": ".py",
   "mimetype": "text/x-python",
   "name": "python",
   "nbconvert_exporter": "python",
   "pygments_lexer": "ipython3",
   "version": "3.5.2"
  }
 },
 "nbformat": 4,
 "nbformat_minor": 2
}
