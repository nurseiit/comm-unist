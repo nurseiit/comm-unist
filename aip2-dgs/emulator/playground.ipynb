{
 "cells": [
  {
   "cell_type": "code",
   "execution_count": null,
   "metadata": {},
   "outputs": [],
   "source": [
    "from EmulatorGUI import GPIO\n",
    "#import RPi.GPIO as GPIO\n",
    "import time\n",
    "import traceback\n",
    "import sys\n",
    " \n",
    "def Main():\n",
    "    try:\n",
    "        GPIO.setmode(GPIO.BCM)    \n",
    " \n",
    "        GPIO.setwarnings(False)\n",
    " \n",
    "        GPIO.setup(4, GPIO.OUT)\n",
    "        GPIO.setup(17, GPIO.OUT, initial = GPIO.LOW)\n",
    "        GPIO.setup(18, GPIO.OUT, initial = GPIO.LOW)\n",
    "        GPIO.setup(21, GPIO.OUT, initial = GPIO.LOW)\n",
    "        GPIO.setup(23, GPIO.IN, pull_up_down = GPIO.PUD_UP)\n",
    "        GPIO.setup(15, GPIO.IN, pull_up_down = GPIO.PUD_DOWN)\n",
    "        GPIO.setup(24, GPIO.IN, pull_up_down = GPIO.PUD_DOWN)\n",
    "        GPIO.setup(26, GPIO.IN)\n",
    " \n",
    "        while(True):\n",
    "            if (GPIO.input(23) == False):\n",
    "                GPIO.output(4,GPIO.HIGH)\n",
    "                GPIO.output(17,GPIO.HIGH)\n",
    "                time.sleep(1)\n",
    " \n",
    "            if (GPIO.input(15) == True):\n",
    "                GPIO.output(18,GPIO.HIGH)\n",
    "                GPIO.output(21,GPIO.HIGH)\n",
    "                time.sleep(1)\n",
    " \n",
    "            if (GPIO.input(24) == True):\n",
    "                GPIO.output(18,GPIO.LOW)\n",
    "                GPIO.output(21,GPIO.LOW)\n",
    "                time.sleep(1)\n",
    " \n",
    "            if (GPIO.input(26) == True):\n",
    "                GPIO.output(4,GPIO.LOW)\n",
    "                GPIO.output(17,GPIO.LOW)\n",
    "                time.sleep(1)\n",
    " \n",
    "    except Exception as ex:\n",
    "        traceback.print_exc()\n",
    "    finally:\n",
    "        GPIO.cleanup() #this ensures a clean exit\n",
    "        sys.exit()\n",
    " \n",
    "Main()"
   ]
  },
  {
   "cell_type": "code",
   "execution_count": null,
   "metadata": {},
   "outputs": [],
   "source": []
  }
 ],
 "metadata": {
  "kernelspec": {
   "display_name": "Python 3",
   "language": "python",
   "name": "python3"
  },
  "language_info": {
   "codemirror_mode": {
    "name": "ipython",
    "version": 3
   },
   "file_extension": ".py",
   "mimetype": "text/x-python",
   "name": "python",
   "nbconvert_exporter": "python",
   "pygments_lexer": "ipython3",
   "version": "3.6.5"
  }
 },
 "nbformat": 4,
 "nbformat_minor": 2
}
