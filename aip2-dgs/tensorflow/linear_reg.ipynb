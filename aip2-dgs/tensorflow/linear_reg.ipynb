{
 "cells": [
  {
   "cell_type": "markdown",
   "metadata": {
    "collapsed": false
   },
   "source": [
    "# Linear Regression\n",
    "#### Nurseiit Abdimomyn 20172001\n",
    "\n",
    "A linear regression learning algorithm example using TensorFlow library.\n"
   ]
  },
  {
   "cell_type": "code",
   "execution_count": 3,
   "metadata": {
    "collapsed": true
   },
   "outputs": [],
   "source": [
    "import tensorflow as tf\n",
    "import numpy as np\n",
    "import matplotlib.pyplot as plt\n",
    "% matplotlib inline\n",
    "\n",
    "rng = np.random"
   ]
  },
  {
   "cell_type": "code",
   "execution_count": 4,
   "metadata": {
    "collapsed": true
   },
   "outputs": [],
   "source": [
    "# Parameters\n",
    "learning_rate = 0.01\n",
    "training_epochs = 1000\n",
    "display_step = 50"
   ]
  },
  {
   "cell_type": "code",
   "execution_count": 5,
   "metadata": {
    "collapsed": true
   },
   "outputs": [],
   "source": [
    "# Training Data\n",
    "train_X = np.asarray([3.3,4.4,5.5,6.71,6.93,4.168,9.779,6.182,7.59,2.167,\n",
    "                         7.042,10.791,5.313,7.997,5.654,9.27,3.1])\n",
    "train_Y = np.asarray([1.7,2.76,2.09,3.19,1.694,1.573,3.366,2.596,2.53,1.221,\n",
    "                         2.827,3.465,1.65,2.904,2.42,2.94,1.3])\n",
    "n_samples = train_X.shape[0]"
   ]
  },
  {
   "cell_type": "code",
   "execution_count": 6,
   "metadata": {
    "collapsed": true
   },
   "outputs": [],
   "source": [
    "# tf Graph Input\n",
    "X = tf.placeholder('float')\n",
    "Y = tf.placeholder('float')\n",
    "\n",
    "# Set model weights\n",
    "W = tf.Variable(rng.randn(), name='weight')\n",
    "b = tf.Variable(rng.randn(), name='bias')"
   ]
  },
  {
   "cell_type": "code",
   "execution_count": 9,
   "metadata": {
    "collapsed": true
   },
   "outputs": [],
   "source": [
    "# Construct a linear model\n",
    "Y_hat = tf.add(tf.multiply(X, W), b)"
   ]
  },
  {
   "cell_type": "code",
   "execution_count": 10,
   "metadata": {
    "collapsed": true
   },
   "outputs": [],
   "source": [
    "# Mean squared error\n",
    "cost = tf.reduce_sum(tf.pow(Y-Y_hat,2))/(2*n_samples)\n",
    "# Gradient descent\n",
    "optimizer = tf.train.GradientDescentOptimizer(learning_rate).minimize(cost)"
   ]
  },
  {
   "cell_type": "code",
   "execution_count": 11,
   "metadata": {
    "collapsed": false
   },
   "outputs": [],
   "source": [
    "# Initialize the variables (i.e. assign their default value)\n",
    "init = tf.global_variables_initializer()"
   ]
  },
  {
   "cell_type": "code",
   "execution_count": 13,
   "metadata": {
    "collapsed": false
   },
   "outputs": [
    {
     "name": "stdout",
     "output_type": "stream",
     "text": [
      "Epoch: 0050 cost= 0.094813056 W= 0.32438087 b= 0.2634524\n",
      "Epoch: 0100 cost= 0.092749894 W= 0.3199329 b= 0.2954508\n",
      "Epoch: 0150 cost= 0.090925232 W= 0.3157494 b= 0.32554618\n",
      "Epoch: 0200 cost= 0.089311533 W= 0.31181487 b= 0.353851\n",
      "Epoch: 0250 cost= 0.087884367 W= 0.30811417 b= 0.3804731\n",
      "Epoch: 0300 cost= 0.086622193 W= 0.3046337 b= 0.40551198\n",
      "Epoch: 0350 cost= 0.085506052 W= 0.30136025 b= 0.42906064\n",
      "Epoch: 0400 cost= 0.084518947 W= 0.29828143 b= 0.4512094\n",
      "Epoch: 0450 cost= 0.083646029 W= 0.29538575 b= 0.4720413\n",
      "Epoch: 0500 cost= 0.082874112 W= 0.2926622 b= 0.49163377\n",
      "Epoch: 0550 cost= 0.082191490 W= 0.29010075 b= 0.5100611\n",
      "Epoch: 0600 cost= 0.081587873 W= 0.2876916 b= 0.52739227\n",
      "Epoch: 0650 cost= 0.081054136 W= 0.2854257 b= 0.54369295\n",
      "Epoch: 0700 cost= 0.080582179 W= 0.28329456 b= 0.5590243\n",
      "Epoch: 0750 cost= 0.080164850 W= 0.28129002 b= 0.5734444\n",
      "Epoch: 0800 cost= 0.079795875 W= 0.27940488 b= 0.5870062\n",
      "Epoch: 0850 cost= 0.079469584 W= 0.27763158 b= 0.59976315\n",
      "Epoch: 0900 cost= 0.079181127 W= 0.2759638 b= 0.6117611\n",
      "Epoch: 0950 cost= 0.078926131 W= 0.27439553 b= 0.6230429\n",
      "Epoch: 1000 cost= 0.078700714 W= 0.2729206 b= 0.63365376\n",
      "Optimization Finished!\n",
      "Training cost= 0.078700714 W= 0.2729206 b= 0.63365376 \n",
      "\n"
     ]
    },
    {
     "data": {
      "image/png": "[encoded data removed]",
      "text/plain": [
       "<Figure size 432x288 with 1 Axes>"
      ]
     },
     "metadata": {
      "needs_background": "light"
     },
     "output_type": "display_data"
    }
   ],
   "source": [
    "# Start training\n",
    "with tf.Session() as sess:\n",
    "    sess.run(init)\n",
    "\n",
    "    # Fit all training data\n",
    "    for epoch in range(training_epochs):\n",
    "        for x,y in zip(train_X, train_Y):\n",
    "            sess.run(optimizer, feed_dict={X:x, Y:y})\n",
    "        \n",
    "        #Display logs per epoch step\n",
    "        if (epoch+1) % display_step == 0:\n",
    "            c = sess.run(cost, feed_dict={X:train_X, Y:train_Y})\n",
    "            print (\"Epoch:\", '%04d' % (epoch+1), \"cost=\", \"{:.9f}\".format(c), \"W=\", sess.run(W), \"b=\", sess.run(b))\n",
    "\n",
    "    print(\"Optimization Finished!\")\n",
    "    training_cost = sess.run(cost, feed_dict={X: train_X, Y: train_Y})\n",
    "    print(\"Training cost=\", training_cost, \"W=\", sess.run(W), \"b=\", sess.run(b), '\\n')\n",
    "\n",
    "    #Graphic display\n",
    "    plt.plot(train_X, train_Y, 'ro', label='Original data')\n",
    "    plt.plot(train_X, sess.run(W) * train_X + sess.run(b), label='Fitted line')\n",
    "    plt.legend()\n",
    "    plt.show()"
   ]
  }
 ],
 "metadata": {
  "anaconda-cloud": {},
  "kernelspec": {
   "display_name": "Python 3",
   "language": "python",
   "name": "python3"
  },
  "language_info": {
   "codemirror_mode": {
    "name": "ipython",
    "version": 3
   },
   "file_extension": ".py",
   "mimetype": "text/x-python",
   "name": "python",
   "nbconvert_exporter": "python",
   "pygments_lexer": "ipython3",
   "version": "3.5.2"
  }
 },
 "nbformat": 4,
 "nbformat_minor": 0
}
