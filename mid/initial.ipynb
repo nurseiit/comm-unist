{
 "cells": [
  {
   "cell_type": "code",
   "execution_count": 3,
   "metadata": {},
   "outputs": [],
   "source": [
    "import networkx as nx\n",
    "import pandas as pd\n",
    "import numpy as np\n",
    "import matplotlib.pyplot as plt\n",
    "%matplotlib inline"
   ]
  },
  {
   "cell_type": "code",
   "execution_count": 4,
   "metadata": {},
   "outputs": [],
   "source": [
    "crime_all = pd.read_csv('crime_all.csv')"
   ]
  },
  {
   "cell_type": "code",
   "execution_count": 5,
   "metadata": {},
   "outputs": [],
   "source": [
    "crime_all['CrimeDateAndTime'] = crime_all['CrimeDate'] + ' ' + crime_all['CrimeTime']\n",
    "crime_all['CrimeDate'] = pd.to_datetime(crime_all['CrimeDate'])"
   ]
  },
  {
   "cell_type": "code",
   "execution_count": 6,
   "metadata": {},
   "outputs": [],
   "source": [
    "start_date = '04/01/2014'\n",
    "end_date = '04/01/2015'\n",
    "\n",
    "mask_date = (crime_all['CrimeDate'] > start_date) & (crime_all['CrimeDate'] <= end_date)\n",
    "\n",
    "start_date_2 = '04/01/2018'\n",
    "end_date_2 = '04/01/2019'\n",
    "\n",
    "mask_date_2 = (crime_all['CrimeDate'] > start_date_2) & (crime_all['CrimeDate'] <= end_date_2)"
   ]
  },
  {
   "cell_type": "code",
   "execution_count": 7,
   "metadata": {},
   "outputs": [
    {
     "name": "stdout",
     "output_type": "stream",
     "text": [
      "All: 4293384\n",
      "2014 Crime: 758166\n",
      "2019 Crime: 813671\n"
     ]
    }
   ],
   "source": [
    "print('All:', crime_all.size)\n",
    "crime_2014 = crime_all.loc[mask_date]\n",
    "print('2014 Crime:', crime_2014.size)\n",
    "crime_2019 = crime_all.loc[mask_date_2]\n",
    "print('2019 Crime:', crime_2019.size)"
   ]
  },
  {
   "cell_type": "code",
   "execution_count": 8,
   "metadata": {},
   "outputs": [
    {
     "name": "stdout",
     "output_type": "stream",
     "text": [
      "2018 Crime: 856086\n"
     ]
    }
   ],
   "source": [
    "start_date_3 = '04/01/2017'\n",
    "end_date_3 = '04/01/2018'\n",
    "\n",
    "mask_date_3 = (crime_all['CrimeDate'] > start_date_3) & (crime_all['CrimeDate'] <= end_date_3)\n",
    "\n",
    "crime_2018 = crime_all.loc[mask_date_3]\n",
    "print('2018 Crime:', crime_2018.size)"
   ]
  },
  {
   "cell_type": "code",
   "execution_count": 9,
   "metadata": {},
   "outputs": [],
   "source": [
    "from math import cos, asin, sqrt\n",
    "\n",
    "def distance(lat1, lon1, lat2, lon2):\n",
    "    p = 0.017453292519943295\n",
    "    a = 0.5 - cos((lat2 - lat1) * p)/2 + cos(lat1 * p) * cos(lat2 * p) * (1 - cos((lon2 - lon1) * p)) / 2\n",
    "    return 12742 * asin(sqrt(a))"
   ]
  },
  {
   "cell_type": "code",
   "execution_count": 10,
   "metadata": {},
   "outputs": [
    {
     "data": {
      "text/html": [
       "<div>\n",
       "<style scoped>\n",
       "    .dataframe tbody tr th:only-of-type {\n",
       "        vertical-align: middle;\n",
       "    }\n",
       "\n",
       "    .dataframe tbody tr th {\n",
       "        vertical-align: top;\n",
       "    }\n",
       "\n",
       "    .dataframe thead th {\n",
       "        text-align: right;\n",
       "    }\n",
       "</style>\n",
       "<table border=\"1\" class=\"dataframe\">\n",
       "  <thead>\n",
       "    <tr style=\"text-align: right;\">\n",
       "      <th></th>\n",
       "      <th>CrimeDate</th>\n",
       "      <th>CrimeTime</th>\n",
       "      <th>CrimeCode</th>\n",
       "      <th>Location</th>\n",
       "      <th>Description</th>\n",
       "      <th>Inside/Outside</th>\n",
       "      <th>Weapon</th>\n",
       "      <th>Post</th>\n",
       "      <th>District</th>\n",
       "      <th>Neighborhood</th>\n",
       "      <th>Longitude</th>\n",
       "      <th>Latitude</th>\n",
       "      <th>Location 1</th>\n",
       "      <th>Premise</th>\n",
       "      <th>crimeCaseNumber</th>\n",
       "      <th>Total Incidents</th>\n",
       "      <th>CrimeDateAndTime</th>\n",
       "    </tr>\n",
       "  </thead>\n",
       "  <tbody>\n",
       "    <tr>\n",
       "      <th>48287</th>\n",
       "      <td>2018-04-01</td>\n",
       "      <td>9:55:00 AM</td>\n",
       "      <td>5D</td>\n",
       "      <td>3500 HILLEN RD</td>\n",
       "      <td>BURGLARY</td>\n",
       "      <td>NaN</td>\n",
       "      <td>NaN</td>\n",
       "      <td>412.0</td>\n",
       "      <td>NORTHEASTERN</td>\n",
       "      <td>Ednor Gardens-Lakeside</td>\n",
       "      <td>-76.58896</td>\n",
       "      <td>39.33255</td>\n",
       "      <td>NaN</td>\n",
       "      <td>NaN</td>\n",
       "      <td>NaN</td>\n",
       "      <td>1</td>\n",
       "      <td>04/01/2018 9:55:00 AM</td>\n",
       "    </tr>\n",
       "    <tr>\n",
       "      <th>48288</th>\n",
       "      <td>2018-04-01</td>\n",
       "      <td>9:45:00 PM</td>\n",
       "      <td>4E</td>\n",
       "      <td>400 MANSE CT</td>\n",
       "      <td>COMMON ASSAULT</td>\n",
       "      <td>O</td>\n",
       "      <td>NaN</td>\n",
       "      <td>123.0</td>\n",
       "      <td>CENTRAL</td>\n",
       "      <td>Upton</td>\n",
       "      <td>-76.62590</td>\n",
       "      <td>39.30218</td>\n",
       "      <td>NaN</td>\n",
       "      <td>STREET</td>\n",
       "      <td>NaN</td>\n",
       "      <td>1</td>\n",
       "      <td>04/01/2018 9:45:00 PM</td>\n",
       "    </tr>\n",
       "    <tr>\n",
       "      <th>48289</th>\n",
       "      <td>2018-04-01</td>\n",
       "      <td>9:44:00 PM</td>\n",
       "      <td>3JK</td>\n",
       "      <td>2300 SEAMON AVE</td>\n",
       "      <td>ROBBERY - RESIDENCE</td>\n",
       "      <td>I</td>\n",
       "      <td>KNIFE</td>\n",
       "      <td>922.0</td>\n",
       "      <td>SOUTHERN</td>\n",
       "      <td>Cherry Hill</td>\n",
       "      <td>-76.62475</td>\n",
       "      <td>39.25340</td>\n",
       "      <td>NaN</td>\n",
       "      <td>ROW/TOWNHOUSE-OCC</td>\n",
       "      <td>NaN</td>\n",
       "      <td>1</td>\n",
       "      <td>04/01/2018 9:44:00 PM</td>\n",
       "    </tr>\n",
       "    <tr>\n",
       "      <th>48290</th>\n",
       "      <td>2018-04-01</td>\n",
       "      <td>9:35:00 PM</td>\n",
       "      <td>4E</td>\n",
       "      <td>1600 E 25TH ST</td>\n",
       "      <td>COMMON ASSAULT</td>\n",
       "      <td>I</td>\n",
       "      <td>NaN</td>\n",
       "      <td>342.0</td>\n",
       "      <td>EASTERN</td>\n",
       "      <td>Darley Park</td>\n",
       "      <td>-76.59454</td>\n",
       "      <td>39.31634</td>\n",
       "      <td>NaN</td>\n",
       "      <td>ROW/TOWNHOUSE-OCC</td>\n",
       "      <td>NaN</td>\n",
       "      <td>1</td>\n",
       "      <td>04/01/2018 9:35:00 PM</td>\n",
       "    </tr>\n",
       "    <tr>\n",
       "      <th>48291</th>\n",
       "      <td>2018-04-01</td>\n",
       "      <td>9:20:00 PM</td>\n",
       "      <td>3JF</td>\n",
       "      <td>300 LYNDHURST ST</td>\n",
       "      <td>ROBBERY - RESIDENCE</td>\n",
       "      <td>I</td>\n",
       "      <td>FIREARM</td>\n",
       "      <td>843.0</td>\n",
       "      <td>SOUTHWESTERN</td>\n",
       "      <td>Allendale</td>\n",
       "      <td>-76.68041</td>\n",
       "      <td>39.29092</td>\n",
       "      <td>NaN</td>\n",
       "      <td>ROW/TOWNHOUSE-OCC</td>\n",
       "      <td>NaN</td>\n",
       "      <td>1</td>\n",
       "      <td>04/01/2018 9:20:00 PM</td>\n",
       "    </tr>\n",
       "  </tbody>\n",
       "</table>\n",
       "</div>"
      ],
      "text/plain": [
       "       CrimeDate   CrimeTime CrimeCode          Location          Description  \\\n",
       "48287 2018-04-01  9:55:00 AM        5D    3500 HILLEN RD             BURGLARY   \n",
       "48288 2018-04-01  9:45:00 PM        4E      400 MANSE CT       COMMON ASSAULT   \n",
       "48289 2018-04-01  9:44:00 PM       3JK   2300 SEAMON AVE  ROBBERY - RESIDENCE   \n",
       "48290 2018-04-01  9:35:00 PM        4E    1600 E 25TH ST       COMMON ASSAULT   \n",
       "48291 2018-04-01  9:20:00 PM       3JF  300 LYNDHURST ST  ROBBERY - RESIDENCE   \n",
       "\n",
       "      Inside/Outside   Weapon   Post      District            Neighborhood  \\\n",
       "48287            NaN      NaN  412.0  NORTHEASTERN  Ednor Gardens-Lakeside   \n",
       "48288              O      NaN  123.0       CENTRAL                   Upton   \n",
       "48289              I    KNIFE  922.0      SOUTHERN             Cherry Hill   \n",
       "48290              I      NaN  342.0       EASTERN             Darley Park   \n",
       "48291              I  FIREARM  843.0  SOUTHWESTERN               Allendale   \n",
       "\n",
       "       Longitude  Latitude  Location 1            Premise  crimeCaseNumber  \\\n",
       "48287  -76.58896  39.33255         NaN                NaN              NaN   \n",
       "48288  -76.62590  39.30218         NaN             STREET              NaN   \n",
       "48289  -76.62475  39.25340         NaN  ROW/TOWNHOUSE-OCC              NaN   \n",
       "48290  -76.59454  39.31634         NaN  ROW/TOWNHOUSE-OCC              NaN   \n",
       "48291  -76.68041  39.29092         NaN  ROW/TOWNHOUSE-OCC              NaN   \n",
       "\n",
       "       Total Incidents       CrimeDateAndTime  \n",
       "48287                1  04/01/2018 9:55:00 AM  \n",
       "48288                1  04/01/2018 9:45:00 PM  \n",
       "48289                1  04/01/2018 9:44:00 PM  \n",
       "48290                1  04/01/2018 9:35:00 PM  \n",
       "48291                1  04/01/2018 9:20:00 PM  "
      ]
     },
     "execution_count": 10,
     "metadata": {},
     "output_type": "execute_result"
    }
   ],
   "source": [
    "crime_2018.head()"
   ]
  },
  {
   "cell_type": "code",
   "execution_count": 11,
   "metadata": {},
   "outputs": [
    {
     "name": "stdout",
     "output_type": "stream",
     "text": [
      "(603, 4)\n"
     ]
    }
   ],
   "source": [
    "cctv_2014 = pd.read_csv('CCTV_2014.csv')\n",
    "print(cctv_2014.shape)"
   ]
  },
  {
   "cell_type": "code",
   "execution_count": null,
   "metadata": {},
   "outputs": [],
   "source": [
    "cctv_2014.head()"
   ]
  },
  {
   "cell_type": "code",
   "execution_count": null,
   "metadata": {},
   "outputs": [],
   "source": [
    "cctv_2019 = pd.read_csv('CCTV_2019.csv')\n",
    "print(cctv_2019.shape)\n",
    "cctv_2019.head()"
   ]
  },
  {
   "cell_type": "code",
   "execution_count": null,
   "metadata": {},
   "outputs": [],
   "source": [
    "cctv_2018 = pd.read_csv('CCTV_2018.csv')\n",
    "print(cctv_2018.shape)\n",
    "cctv_2018.head()"
   ]
  },
  {
   "cell_type": "code",
   "execution_count": null,
   "metadata": {},
   "outputs": [],
   "source": [
    "crime_2014_locations = []\n",
    "cctv_2014_locations = []\n",
    "\n",
    "for index, crime in crime_2014.iterrows():\n",
    "    lon, lat = crime[\"Longitude\"], crime[\"Latitude\"]\n",
    "    crime_2014_locations.append([lon, lat])\n",
    "    \n",
    "for index, cctv in cctv_2014.iterrows():\n",
    "    now = cctv[\"Location 1\"]\n",
    "    c_lat, c_lon = tuple(map(float, now[1:-1].split(',')))\n",
    "    cctv_2014_locations.append([c_lon, c_lat])"
   ]
  },
  {
   "cell_type": "code",
   "execution_count": null,
   "metadata": {},
   "outputs": [],
   "source": [
    "crime_2019_locations = []\n",
    "cctv_2019_locations = []\n",
    "\n",
    "for index, crime in crime_2019.iterrows():\n",
    "    lon, lat = crime[\"Longitude\"], crime[\"Latitude\"]\n",
    "    crime_2019_locations.append([lon, lat])\n",
    "    \n",
    "for index, cctv in cctv_2019.iterrows():\n",
    "    now = cctv[\"Location 1\"]\n",
    "    c_lat, c_lon = tuple(map(float, now[1:-1].split(',')))\n",
    "    cctv_2019_locations.append([c_lon, c_lat])"
   ]
  },
  {
   "cell_type": "code",
   "execution_count": null,
   "metadata": {},
   "outputs": [],
   "source": [
    "crime_2018_locations = []\n",
    "cctv_2018_locations = []\n",
    "\n",
    "for index, crime in crime_2018.iterrows():\n",
    "    lon, lat = crime[\"Longitude\"], crime[\"Latitude\"]\n",
    "    crime_2018_locations.append([lon, lat])\n",
    "    \n",
    "for index, cctv in cctv_2018.iterrows():\n",
    "    now = cctv[\"Location 1\"]\n",
    "    c_lat, c_lon = tuple(map(float, now[1:-1].split(',')))\n",
    "    cctv_2018_locations.append([c_lon, c_lat])"
   ]
  },
  {
   "cell_type": "markdown",
   "metadata": {},
   "source": [
    "## Calculate"
   ]
  },
  {
   "cell_type": "code",
   "execution_count": null,
   "metadata": {},
   "outputs": [],
   "source": [
    "max_range = 0.01 # 10m"
   ]
  },
  {
   "cell_type": "code",
   "execution_count": null,
   "metadata": {},
   "outputs": [],
   "source": [
    "value_2014 = 0\n",
    "for [lon, lat] in crime_2014_locations:\n",
    "    for [c_lon, c_lat] in cctv_2014_locations:\n",
    "        if distance(lat, lon, c_lat, c_lon) <= max_range:\n",
    "            value_2014 += 1\n",
    "            break"
   ]
  },
  {
   "cell_type": "code",
   "execution_count": null,
   "metadata": {},
   "outputs": [],
   "source": [
    "value_2018 = 0\n",
    "for [lon, lat] in crime_2018_locations:\n",
    "    for [c_lon, c_lat] in cctv_2018_locations:\n",
    "        if distance(lat, lon, c_lat, c_lon) <= max_range:\n",
    "            value_2018 += 1\n",
    "            break"
   ]
  },
  {
   "cell_type": "code",
   "execution_count": null,
   "metadata": {},
   "outputs": [],
   "source": [
    "value_2019 = 0\n",
    "for [lon, lat] in crime_2019_locations:\n",
    "    for [c_lon, c_lat] in cctv_2019_locations:\n",
    "        if distance(lat, lon, c_lat, c_lon) <= max_range:\n",
    "            value_2019 += 1\n",
    "            break"
   ]
  },
  {
   "cell_type": "code",
   "execution_count": null,
   "metadata": {},
   "outputs": [],
   "source": [
    "print('2014, # of crimes with CCTVs no far than 10m:', value_2014)\n",
    "print('2018, # of crimes with CCTVs no far than 10m:', value_2018)\n",
    "print('2019, # of crimes with CCTVs no far than 10m:', value_2019)"
   ]
  },
  {
   "cell_type": "code",
   "execution_count": null,
   "metadata": {},
   "outputs": [],
   "source": [
    "crime_2014.head()"
   ]
  },
  {
   "cell_type": "code",
   "execution_count": 15,
   "metadata": {},
   "outputs": [],
   "source": [
    "pd.options.mode.chained_assignment = None  # default='warn'\n",
    "\n",
    "crime_2014.index = pd.to_datetime(crime_2014['CrimeDateAndTime'])\n",
    "\n",
    "start_time_day = '9:00'\n",
    "end_time_day = '19:00'\n",
    "\n",
    "crime_2014_day = crime_2014.between_time(start_time_day, end_time_day)"
   ]
  },
  {
   "cell_type": "code",
   "execution_count": 19,
   "metadata": {},
   "outputs": [],
   "source": [
    "start_time_night = '19:01'\n",
    "end_time_night = '8:59'\n",
    "\n",
    "crime_2014_night = crime_2014.between_time(start_time_night, end_time_night)"
   ]
  },
  {
   "cell_type": "code",
   "execution_count": 21,
   "metadata": {},
   "outputs": [
    {
     "name": "stdout",
     "output_type": "stream",
     "text": [
      "(23313, 17)\n",
      "(21285, 17)\n",
      "(44598, 17)\n"
     ]
    }
   ],
   "source": [
    "print(crime_2014_day.shape)\n",
    "print(crime_2014_night.shape)\n",
    "print(crime_2014.shape)"
   ]
  }
 ],
 "metadata": {
  "kernelspec": {
   "display_name": "Python 3",
   "language": "python",
   "name": "python3"
  }
 },
 "nbformat": 4,
 "nbformat_minor": 2
}
