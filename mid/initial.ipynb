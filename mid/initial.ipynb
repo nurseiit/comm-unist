{
 "cells": [
  {
   "cell_type": "code",
   "execution_count": 1,
   "metadata": {},
   "outputs": [],
   "source": [
    "import networkx as nx\n",
    "import pandas as pd\n",
    "import numpy as np\n",
    "import matplotlib.pyplot as plt\n",
    "%matplotlib inline\n",
    "\n",
    "from math import cos, asin, sqrt"
   ]
  },
  {
   "cell_type": "code",
   "execution_count": 2,
   "metadata": {},
   "outputs": [],
   "source": [
    "crime_all = pd.read_csv('crime_all.csv')\n",
    "cctv_2014 = pd.read_csv('CCTV_2014.csv')\n",
    "cctv_2019 = pd.read_csv('CCTV_2019.csv')"
   ]
  },
  {
   "cell_type": "code",
   "execution_count": 3,
   "metadata": {},
   "outputs": [],
   "source": [
    "crime_all['CrimeDateAndTime'] = crime_all['CrimeDate'] + ' ' + crime_all['CrimeTime']\n",
    "crime_all['CrimeDateAndTime'] = pd.to_datetime(crime_all['CrimeDateAndTime'])"
   ]
  },
  {
   "cell_type": "code",
   "execution_count": 4,
   "metadata": {},
   "outputs": [],
   "source": [
    "# Index to filter by between_time\n",
    "crime_all.index = crime_all['CrimeDateAndTime']"
   ]
  },
  {
   "cell_type": "code",
   "execution_count": 5,
   "metadata": {},
   "outputs": [],
   "source": [
    "def filterByYear(year):\n",
    "    start_date = '04/01/{}'.format(year)\n",
    "    end_date = '04/01/{}'.format(year + 1)\n",
    "\n",
    "    mask_date = (crime_all['CrimeDateAndTime'] > start_date) & (crime_all['CrimeDateAndTime'] <= end_date)\n",
    "    return crime_all.loc[mask_date]"
   ]
  },
  {
   "cell_type": "code",
   "execution_count": 6,
   "metadata": {},
   "outputs": [],
   "source": [
    "def filterByTime(crime, startTime, endTime):\n",
    "    return crime.between_time(startTime, endTime)"
   ]
  },
  {
   "cell_type": "code",
   "execution_count": 7,
   "metadata": {},
   "outputs": [],
   "source": [
    "def distance(lat1, lon1, lat2, lon2):\n",
    "    p = 0.017453292519943295\n",
    "    a = 0.5 - cos((lat2 - lat1) * p)/2 + cos(lat1 * p) * cos(lat2 * p) * (1 - cos((lon2 - lon1) * p)) / 2\n",
    "    return 12742 * asin(sqrt(a))"
   ]
  },
  {
   "cell_type": "code",
   "execution_count": 8,
   "metadata": {},
   "outputs": [],
   "source": [
    "def getLocations(crimes, cctvs):\n",
    "    crime_locations = []\n",
    "    cctv_locations = []\n",
    "\n",
    "    for index, crime in crimes.iterrows():\n",
    "        lon, lat = crime[\"Longitude\"], crime[\"Latitude\"]\n",
    "        crime_locations.append([lon, lat])\n",
    "\n",
    "    for index, cctv in cctvs.iterrows():\n",
    "        now = cctv[\"Location 1\"]\n",
    "        c_lat, c_lon = tuple(map(float, now[1:-1].split(',')))\n",
    "        cctv_locations.append([c_lon, c_lat])\n",
    "        \n",
    "    return crime_locations, cctv_locations"
   ]
  },
  {
   "cell_type": "code",
   "execution_count": 9,
   "metadata": {},
   "outputs": [],
   "source": [
    "# calculates number of crimes with at least one CCTV in `max_range`km\n",
    "def calculateF(crime_locations, cctv_locations, max_range):\n",
    "    value = 0\n",
    "    for [lon, lat] in crime_locations:\n",
    "        for [c_lon, c_lat] in cctv_locations:\n",
    "            if distance(lat, lon, c_lat, c_lon) <= max_range:\n",
    "                value += 1\n",
    "                break\n",
    "    return value"
   ]
  },
  {
   "cell_type": "code",
   "execution_count": 31,
   "metadata": {},
   "outputs": [],
   "source": [
    "# calculates number of crimes with no CCTV in `max_range`km\n",
    "def calculateFarthest(crime_locations, cctv_locations, max_range):\n",
    "    value = 0\n",
    "    for [lon, lat] in crime_locations:\n",
    "        flag = True\n",
    "        for [c_lon, c_lat] in cctv_locations:\n",
    "            if distance(lat, lon, c_lat, c_lon) <= max_range:\n",
    "                flag = False\n",
    "                break\n",
    "        if flag == True:\n",
    "            value += 1\n",
    "    return value"
   ]
  },
  {
   "cell_type": "code",
   "execution_count": 28,
   "metadata": {},
   "outputs": [],
   "source": [
    "crime_2014 = filterByYear(2014)\n",
    "crime_2019 = filterByYear(2018)"
   ]
  },
  {
   "cell_type": "code",
   "execution_count": 11,
   "metadata": {},
   "outputs": [],
   "source": [
    "crime_2014_locations, cctv_2014_locations = getLocations(crime_2014, cctv_2014)"
   ]
  },
  {
   "cell_type": "markdown",
   "metadata": {},
   "source": [
    "## Calculate"
   ]
  },
  {
   "cell_type": "code",
   "execution_count": 20,
   "metadata": {},
   "outputs": [],
   "source": [
    "def calculateG(crimes, cctvs, max_range):\n",
    "    crime_locations, cctv_locations = getLocations(crimes, cctvs)\n",
    "    return calculateF(crime_locations, cctv_locations, max_range)"
   ]
  },
  {
   "cell_type": "code",
   "execution_count": 35,
   "metadata": {},
   "outputs": [],
   "source": [
    "def calculateE(crimes, cctvs, max_range):\n",
    "    crime_locations, cctv_locations = getLocations(crimes, cctvs)\n",
    "    return calculateFarthest(crime_locations, cctv_locations, max_range)"
   ]
  },
  {
   "cell_type": "code",
   "execution_count": 15,
   "metadata": {},
   "outputs": [],
   "source": [
    "crime_2014_day = filterByTime(crime_2014, '9:00', '19:00')"
   ]
  },
  {
   "cell_type": "code",
   "execution_count": 17,
   "metadata": {},
   "outputs": [],
   "source": [
    "crime_2014_night = filterByTime(crime_2014, '19:01', '8:59')"
   ]
  },
  {
   "cell_type": "code",
   "execution_count": 32,
   "metadata": {},
   "outputs": [
    {
     "name": "stdout",
     "output_type": "stream",
     "text": [
      "2014, day: 232\n",
      "2014, night: 176\n"
     ]
    }
   ],
   "source": [
    "print('2014, day:', calculateG(crime_2014_day, cctv_2014, 0.01))\n",
    "print('2014, night:', calculateG(crime_2014_night, cctv_2014, 0.01))"
   ]
  },
  {
   "cell_type": "code",
   "execution_count": 40,
   "metadata": {},
   "outputs": [
    {
     "name": "stdout",
     "output_type": "stream",
     "text": [
      "2014, day – camera range: 3223\n",
      "2014, night – camera range: 2797\n"
     ]
    }
   ],
   "source": [
    "print('2014, day – camera range:', calculateG(crime_2014_day, cctv_2014, 0.075))\n",
    "print('2014, night – camera range:', calculateG(crime_2014_night, cctv_2014, 0.075))"
   ]
  },
  {
   "cell_type": "code",
   "execution_count": 29,
   "metadata": {},
   "outputs": [],
   "source": [
    "crime_2019_day = filterByTime(crime_2019, '9:00', '19:00')\n",
    "crime_2019_night = filterByTime(crime_2019, '19:01', '8:59')"
   ]
  },
  {
   "cell_type": "code",
   "execution_count": 33,
   "metadata": {},
   "outputs": [
    {
     "name": "stdout",
     "output_type": "stream",
     "text": [
      "2019, day: 328\n",
      "2019, night: 328\n"
     ]
    }
   ],
   "source": [
    "print('2019, day:', calculateG(crime_2019_day, cctv_2019, 0.01))\n",
    "print('2019, night:', calculateG(crime_2019_night, cctv_2019, 0.01))"
   ]
  },
  {
   "cell_type": "code",
   "execution_count": 39,
   "metadata": {},
   "outputs": [
    {
     "name": "stdout",
     "output_type": "stream",
     "text": [
      "2019, day – camera range: 4011\n",
      "2019, night – camera range: 3911\n"
     ]
    }
   ],
   "source": [
    "print('2019, day – camera range:', calculateG(crime_2019_day, cctv_2019, 0.075))\n",
    "print('2019, night – camera range:', calculateG(crime_2019_night, cctv_2019, 0.075))"
   ]
  },
  {
   "cell_type": "code",
   "execution_count": 37,
   "metadata": {},
   "outputs": [
    {
     "name": "stdout",
     "output_type": "stream",
     "text": [
      "2014, day – far: 18951\n",
      "2014, night – far: 17651\n"
     ]
    }
   ],
   "source": [
    "print('2014, day – far:', calculateE(crime_2014_day, cctv_2014, 0.1))\n",
    "print('2014, night – far:', calculateE(crime_2014_night, cctv_2014, 0.1))"
   ]
  },
  {
   "cell_type": "code",
   "execution_count": 38,
   "metadata": {},
   "outputs": [
    {
     "name": "stdout",
     "output_type": "stream",
     "text": [
      "2019, day – far: 19083\n",
      "2019, night – far: 18837\n"
     ]
    }
   ],
   "source": [
    "print('2019, day – far:', calculateE(crime_2019_day, cctv_2019, 0.1))\n",
    "print('2019, night – far:', calculateE(crime_2019_night, cctv_2019, 0.1))"
   ]
  }
 ],
 "metadata": {
  "kernelspec": {
   "display_name": "Python 3",
   "language": "python",
   "name": "python3"
  },
  "language_info": {
   "codemirror_mode": {
    "name": "ipython",
    "version": 3
   },
   "file_extension": ".py",
   "mimetype": "text/x-python",
   "name": "python",
   "nbconvert_exporter": "python",
   "pygments_lexer": "ipython3",
   "version": "3.7.3"
  }
 },
 "nbformat": 4,
 "nbformat_minor": 2
}
